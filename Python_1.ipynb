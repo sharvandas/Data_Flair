{
  "nbformat": 4,
  "nbformat_minor": 0,
  "metadata": {
    "colab": {
      "name": "Python_1.ipynb",
      "provenance": [],
      "collapsed_sections": []
    },
    "kernelspec": {
      "name": "python3",
      "display_name": "Python 3"
    },
    "language_info": {
      "name": "python"
    }
  },
  "cells": [
    {
      "cell_type": "markdown",
      "source": [
        "Use of back slash"
      ],
      "metadata": {
        "id": "l9Kldzkyi_mq"
      }
    },
    {
      "cell_type": "code",
      "execution_count": 3,
      "metadata": {
        "colab": {
          "base_uri": "https://localhost:8080/",
          "height": 130
        },
        "id": "01k_NWfbi9oV",
        "outputId": "eb3d270f-158c-4a7a-e949-0a4b57ab2176"
      },
      "outputs": [
        {
          "output_type": "error",
          "ename": "SyntaxError",
          "evalue": "ignored",
          "traceback": [
            "\u001b[0;36m  File \u001b[0;32m\"<ipython-input-3-a2365b89321e>\"\u001b[0;36m, line \u001b[0;32m1\u001b[0m\n\u001b[0;31m    print(\"Sharvan\u001b[0m\n\u001b[0m                  ^\u001b[0m\n\u001b[0;31mSyntaxError\u001b[0m\u001b[0;31m:\u001b[0m EOL while scanning string literal\n"
          ]
        }
      ],
      "source": [
        "print(\"Sharvan\n",
        "Raj\n",
        "Das\")"
      ]
    },
    {
      "cell_type": "code",
      "source": [
        "print(\"Sharvan\\\n",
        "Raj\\\n",
        "Das\")"
      ],
      "metadata": {
        "colab": {
          "base_uri": "https://localhost:8080/"
        },
        "id": "H8NQ4bwLjHkb",
        "outputId": "8071b999-d644-41c7-b58c-ce7e8a1530fa"
      },
      "execution_count": 4,
      "outputs": [
        {
          "output_type": "stream",
          "name": "stdout",
          "text": [
            "SharvanRajDas\n"
          ]
        }
      ]
    },
    {
      "cell_type": "code",
      "source": [
        "print(\"Sharvan\"\n",
        "\"Raj\"\n",
        "\"Das\")"
      ],
      "metadata": {
        "colab": {
          "base_uri": "https://localhost:8080/"
        },
        "id": "9ODAE2TJjHnA",
        "outputId": "401374f5-0078-4c33-9b98-b5db2f42513e"
      },
      "execution_count": 5,
      "outputs": [
        {
          "output_type": "stream",
          "name": "stdout",
          "text": [
            "SharvanRajDas\n"
          ]
        }
      ]
    },
    {
      "cell_type": "code",
      "source": [
        "\"\"\"How are you, See I am used to Explain the code\"\"\""
      ],
      "metadata": {
        "colab": {
          "base_uri": "https://localhost:8080/",
          "height": 35
        },
        "id": "MQFRgvoEjHq7",
        "outputId": "c87e4a7f-b6a5-43cf-d9e6-6245c062b4a8"
      },
      "execution_count": 16,
      "outputs": [
        {
          "output_type": "execute_result",
          "data": {
            "text/plain": [
              "'How are you, See I am used to Explain the code'"
            ],
            "application/vnd.google.colaboratory.intrinsic+json": {
              "type": "string"
            }
          },
          "metadata": {},
          "execution_count": 16
        }
      ]
    },
    {
      "cell_type": "code",
      "source": [
        "# How are you, i am comment"
      ],
      "metadata": {
        "id": "QTTHJm88jHtz"
      },
      "execution_count": 10,
      "outputs": []
    },
    {
      "cell_type": "code",
      "source": [
        "\"\"\" This is a Doc sting, It is used to Explain the code\"\"\""
      ],
      "metadata": {
        "colab": {
          "base_uri": "https://localhost:8080/",
          "height": 35
        },
        "id": "YKpcaOTajwTq",
        "outputId": "d0e33ba4-e0c8-471a-c868-eb8c5ff8e33f"
      },
      "execution_count": 19,
      "outputs": [
        {
          "output_type": "execute_result",
          "data": {
            "text/plain": [
              "' This is a Doc sting, It is used to Explain the code'"
            ],
            "application/vnd.google.colaboratory.intrinsic+json": {
              "type": "string"
            }
          },
          "metadata": {},
          "execution_count": 19
        }
      ]
    },
    {
      "cell_type": "code",
      "source": [
        "# if statement for indendatiom\n",
        "if 2>1:\n",
        "  print(\"Yes\")"
      ],
      "metadata": {
        "colab": {
          "base_uri": "https://localhost:8080/"
        },
        "id": "JQrfUKquj6Zw",
        "outputId": "5c0f2ddf-368d-47af-b6aa-3bf2d59d3809"
      },
      "execution_count": 12,
      "outputs": [
        {
          "output_type": "stream",
          "name": "stdout",
          "text": [
            "Yes\n"
          ]
        }
      ]
    },
    {
      "cell_type": "code",
      "source": [
        "#multiple line in python to use the code"
      ],
      "metadata": {
        "id": "JFW3X3k5l3t7"
      },
      "execution_count": 20,
      "outputs": []
    },
    {
      "cell_type": "code",
      "source": [
        "a= 9; print(a); print(\"i am written in single line\")"
      ],
      "metadata": {
        "colab": {
          "base_uri": "https://localhost:8080/"
        },
        "id": "Bn7rv4Ckl-D2",
        "outputId": "c511dd33-a3ce-43dd-c119-b5f8164c0f58"
      },
      "execution_count": 22,
      "outputs": [
        {
          "output_type": "stream",
          "name": "stdout",
          "text": [
            "9\n",
            "i am written in single line\n"
          ]
        }
      ]
    },
    {
      "cell_type": "code",
      "source": [
        ""
      ],
      "metadata": {
        "id": "3ynAUAqgl-Gu"
      },
      "execution_count": null,
      "outputs": []
    },
    {
      "cell_type": "markdown",
      "source": [
        "#Printing Styles in Python"
      ],
      "metadata": {
        "id": "qH4jKcOmkjvA"
      }
    },
    {
      "cell_type": "code",
      "source": [
        ""
      ],
      "metadata": {
        "id": "CPZGmQFPl9Fy"
      },
      "execution_count": null,
      "outputs": []
    },
    {
      "cell_type": "code",
      "source": [
        "# Using % operator\n",
        "name = \"Sharvan\"\n",
        "company = \"XYZ\"\n",
        "print(\"Hi my self %s, I work in %s company\" %(name,company))"
      ],
      "metadata": {
        "colab": {
          "base_uri": "https://localhost:8080/"
        },
        "id": "8xU8ViTEkLDj",
        "outputId": "2f2d0084-c7a7-4aa9-aa54-4bf3ee16626b"
      },
      "execution_count": 23,
      "outputs": [
        {
          "output_type": "stream",
          "name": "stdout",
          "text": [
            "Hi my self Sharvan, I work in XYZ company\n"
          ]
        }
      ]
    },
    {
      "cell_type": "code",
      "source": [
        "#using .format\n",
        "a = 1.5\n",
        "b = \"developing\"\n",
        "print(\"I have {} of {} experience\".format(a,b))"
      ],
      "metadata": {
        "colab": {
          "base_uri": "https://localhost:8080/"
        },
        "id": "UmuHdKrnkiiE",
        "outputId": "0d564953-5ca2-41ef-cc1d-e804d0da168f"
      },
      "execution_count": 26,
      "outputs": [
        {
          "output_type": "stream",
          "name": "stdout",
          "text": [
            "I have 1.5 of developing experience\n"
          ]
        }
      ]
    },
    {
      "cell_type": "code",
      "source": [
        "#using f-string\n",
        "c= \"best\"\n",
        "d= \"Python Developer / Engineer\"\n",
        "print(f\"I wanted to be the {c} {d}.\")"
      ],
      "metadata": {
        "colab": {
          "base_uri": "https://localhost:8080/"
        },
        "id": "wKyPgXyVkLFt",
        "outputId": "45d1226d-dfd0-4940-bcb9-c0697a9eb15f"
      },
      "execution_count": 28,
      "outputs": [
        {
          "output_type": "stream",
          "name": "stdout",
          "text": [
            "I wanted to be the best Python Developer / Engineer.\n"
          ]
        }
      ]
    },
    {
      "cell_type": "code",
      "source": [
        "I'm fine"
      ],
      "metadata": {
        "colab": {
          "base_uri": "https://localhost:8080/",
          "height": 130
        },
        "id": "PjgjcJQbkLJi",
        "outputId": "416fcbda-f029-4409-80f4-eff26aa4680d"
      },
      "execution_count": 29,
      "outputs": [
        {
          "output_type": "error",
          "ename": "SyntaxError",
          "evalue": "ignored",
          "traceback": [
            "\u001b[0;36m  File \u001b[0;32m\"<ipython-input-29-3ae29992f298>\"\u001b[0;36m, line \u001b[0;32m1\u001b[0m\n\u001b[0;31m    I'm fine\u001b[0m\n\u001b[0m            ^\u001b[0m\n\u001b[0;31mSyntaxError\u001b[0m\u001b[0;31m:\u001b[0m EOL while scanning string literal\n"
          ]
        }
      ]
    },
    {
      "cell_type": "code",
      "source": [
        "s = \"I'm fine\""
      ],
      "metadata": {
        "id": "mnivnujskLMo"
      },
      "execution_count": 31,
      "outputs": []
    },
    {
      "cell_type": "code",
      "source": [
        "print(s)"
      ],
      "metadata": {
        "colab": {
          "base_uri": "https://localhost:8080/"
        },
        "id": "dua1VBSSxvOK",
        "outputId": "a00df242-3807-4dde-e689-01ad8afa2853"
      },
      "execution_count": 32,
      "outputs": [
        {
          "output_type": "stream",
          "name": "stdout",
          "text": [
            "I'm fine\n"
          ]
        }
      ]
    },
    {
      "cell_type": "code",
      "source": [
        "s=[1,2,3,4,5,6,4]"
      ],
      "metadata": {
        "id": "r5EtzrpbyaUK"
      },
      "execution_count": 39,
      "outputs": []
    },
    {
      "cell_type": "code",
      "source": [
        "sum(s)"
      ],
      "metadata": {
        "colab": {
          "base_uri": "https://localhost:8080/"
        },
        "id": "vNwSHZulym7M",
        "outputId": "a5a86deb-e222-4c93-d13a-819cad1f656f"
      },
      "execution_count": 40,
      "outputs": [
        {
          "output_type": "execute_result",
          "data": {
            "text/plain": [
              "25"
            ]
          },
          "metadata": {},
          "execution_count": 40
        }
      ]
    },
    {
      "cell_type": "code",
      "source": [
        "len(s)"
      ],
      "metadata": {
        "colab": {
          "base_uri": "https://localhost:8080/"
        },
        "id": "esBtuQV3ym-Q",
        "outputId": "161ccfb3-e1cc-484e-dbdf-3bbec754af22"
      },
      "execution_count": 41,
      "outputs": [
        {
          "output_type": "execute_result",
          "data": {
            "text/plain": [
              "7"
            ]
          },
          "metadata": {},
          "execution_count": 41
        }
      ]
    },
    {
      "cell_type": "code",
      "source": [
        "sorted(s)"
      ],
      "metadata": {
        "colab": {
          "base_uri": "https://localhost:8080/"
        },
        "id": "oSxvNvPkybGj",
        "outputId": "325e0897-ddc6-4d7c-8ae0-f6505633c7de"
      },
      "execution_count": 42,
      "outputs": [
        {
          "output_type": "execute_result",
          "data": {
            "text/plain": [
              "[1, 2, 3, 4, 4, 5, 6]"
            ]
          },
          "metadata": {},
          "execution_count": 42
        }
      ]
    },
    {
      "cell_type": "code",
      "source": [
        "int(len(s)/2)"
      ],
      "metadata": {
        "colab": {
          "base_uri": "https://localhost:8080/"
        },
        "id": "GzioXlehzYEr",
        "outputId": "05eefca6-5867-473b-f0a1-b0e9061d841b"
      },
      "execution_count": 43,
      "outputs": [
        {
          "output_type": "execute_result",
          "data": {
            "text/plain": [
              "3"
            ]
          },
          "metadata": {},
          "execution_count": 43
        }
      ]
    },
    {
      "cell_type": "code",
      "source": [
        "#Mean #Meadian\n",
        "def mean_median(scores):\n",
        "  mean = sum(scores)/len(scores)\n",
        "  median = sorted(scores)[int(len(scores)/2)]\n",
        "  if median > mean:\n",
        "    return \"Median is greater\"\n",
        "  else:\n",
        "    return \"Mean is greater\"\n"
      ],
      "metadata": {
        "id": "hXOBxLm8xvV6"
      },
      "execution_count": 52,
      "outputs": []
    },
    {
      "cell_type": "code",
      "source": [
        "print(mean_median([2,4,5,8,10]))"
      ],
      "metadata": {
        "colab": {
          "base_uri": "https://localhost:8080/"
        },
        "id": "YxQMPyREzF2y",
        "outputId": "84b9797a-7229-4d95-fb74-fee97003c81e"
      },
      "execution_count": 55,
      "outputs": [
        {
          "output_type": "stream",
          "name": "stdout",
          "text": [
            "Mean is greater\n"
          ]
        }
      ]
    },
    {
      "cell_type": "code",
      "source": [
        "print(mean_median([-10,1,2]))"
      ],
      "metadata": {
        "colab": {
          "base_uri": "https://localhost:8080/"
        },
        "id": "WPnGUhkazMHC",
        "outputId": "e8b89b8f-44f8-4c02-bcf7-d447662e34c8"
      },
      "execution_count": 56,
      "outputs": [
        {
          "output_type": "stream",
          "name": "stdout",
          "text": [
            "Median is greater\n"
          ]
        }
      ]
    },
    {
      "cell_type": "code",
      "source": [
        "# Mad Lib game - (\"Simple story about your dream\")\n",
        "def dream_come_true():\n",
        "  inputs,pos=[],[\"your name\",'your first dream', 'your second dream', 'your third dream', 'your forth dream', 'dead line for the first dream', 'what about others Date']\n",
        "  for part in pos:\n",
        "    inputs.append(input(f'tell me {part}')) \n",
        "  print(\"Hi, Myself {0}. I am going to tell some of my dreams through this code. After getting a job, I want a {1}, then after that I want {2}, and after that {3} and the last one before mairrage{4}, this first one needed with in {5} and all others with in {6}\".format(*inputs))"
      ],
      "metadata": {
        "id": "nLVNgwFez_E-"
      },
      "execution_count": 57,
      "outputs": []
    },
    {
      "cell_type": "code",
      "source": [
        "dream_come_true()"
      ],
      "metadata": {
        "colab": {
          "base_uri": "https://localhost:8080/"
        },
        "id": "mTCxztRsGFI2",
        "outputId": "cfcb6053-8a9f-4e8a-def6-d87f4f25f153"
      },
      "execution_count": 58,
      "outputs": [
        {
          "output_type": "stream",
          "name": "stdout",
          "text": [
            "tell me your nameSharvan Raj Das\n",
            "tell me your first dreamThunder Bird Bike\n",
            "tell me your second dreamWaganor Car\n",
            "tell me your third dreamA Beautiful House\n",
            "tell me your forth dreamTrip to Paris\n",
            "tell me dead line for the first dreamwith in 6 months\n",
            "tell me what about others Datewith in 2 Years\n",
            "Hi, Myself Sharvan Raj Das. I am going to tell some of my dreams through this code. After getting a job, I want a Thunder Bird Bike, then after that I want Waganor Car, and after that A Beautiful House and the last one before mairrageTrip to Paris, this first one needed with in with in 6 months and all others with in with in 2 Years\n"
          ]
        }
      ]
    },
    {
      "cell_type": "code",
      "source": [
        "#Writing a function for a popular kid sing\n",
        "def baby():\n",
        "  return \"Baby shark doo doo doo doo\"\n",
        "def print_doo():\n",
        "  return \"doo \"*6"
      ],
      "metadata": {
        "id": "wSer6cA0GPA2"
      },
      "execution_count": 4,
      "outputs": []
    },
    {
      "cell_type": "code",
      "source": [
        "print(baby())\n",
        "\n",
        "\n",
        "print_doo()"
      ],
      "metadata": {
        "colab": {
          "base_uri": "https://localhost:8080/",
          "height": 53
        },
        "id": "3DiBxD7kHDw6",
        "outputId": "eb49b5d3-b574-4a31-b090-0ad49abafdf0"
      },
      "execution_count": 5,
      "outputs": [
        {
          "output_type": "stream",
          "name": "stdout",
          "text": [
            "Baby shark doo doo doo doo\n"
          ]
        },
        {
          "output_type": "execute_result",
          "data": {
            "text/plain": [
              "'doo doo doo doo doo doo '"
            ],
            "application/vnd.google.colaboratory.intrinsic+json": {
              "type": "string"
            }
          },
          "metadata": {},
          "execution_count": 5
        }
      ]
    },
    {
      "cell_type": "code",
      "source": [
        "def baby_shark():\n",
        "  sharks = ['mummy','daddy','grandma','grandpa']\n",
        "  for shark in sharks:\n",
        "    for index in range(3):\n",
        "      print(shark+ ' shark, %s'%(print_doo()))\n",
        "    print(shark+' shark!\\n')\n",
        "  for index in range(3):\n",
        "    print('let\\'s go hunt, %s' %(print_doo()))\n",
        "  print('let\\'s go hunt!\\n\\n Run away..')"
      ],
      "metadata": {
        "id": "5zwZd9GnHDzE"
      },
      "execution_count": 14,
      "outputs": []
    },
    {
      "cell_type": "code",
      "source": [
        "baby_shark()"
      ],
      "metadata": {
        "colab": {
          "base_uri": "https://localhost:8080/"
        },
        "id": "oKyNOy3aHD24",
        "outputId": "358f905e-9eed-4f37-a838-b26db9266b59"
      },
      "execution_count": 15,
      "outputs": [
        {
          "output_type": "stream",
          "name": "stdout",
          "text": [
            "mummy shark, doo doo doo doo doo doo \n",
            "mummy shark, doo doo doo doo doo doo \n",
            "mummy shark, doo doo doo doo doo doo \n",
            "mummy shark!\n",
            "\n",
            "daddy shark, doo doo doo doo doo doo \n",
            "daddy shark, doo doo doo doo doo doo \n",
            "daddy shark, doo doo doo doo doo doo \n",
            "daddy shark!\n",
            "\n",
            "grandma shark, doo doo doo doo doo doo \n",
            "grandma shark, doo doo doo doo doo doo \n",
            "grandma shark, doo doo doo doo doo doo \n",
            "grandma shark!\n",
            "\n",
            "grandpa shark, doo doo doo doo doo doo \n",
            "grandpa shark, doo doo doo doo doo doo \n",
            "grandpa shark, doo doo doo doo doo doo \n",
            "grandpa shark!\n",
            "\n",
            "let's go hunt, doo doo doo doo doo doo \n",
            "let's go hunt, doo doo doo doo doo doo \n",
            "let's go hunt, doo doo doo doo doo doo \n",
            "let's go hunt!\n",
            "\n",
            " Run away..\n"
          ]
        }
      ]
    },
    {
      "cell_type": "code",
      "source": [
        "def alphabets(words):\n",
        "  return ''.join(words.split(','))\n",
        "  "
      ],
      "metadata": {
        "id": "PvEepDaq0D-6"
      },
      "execution_count": 56,
      "outputs": []
    },
    {
      "cell_type": "code",
      "source": [
        "alphabets('mobile, user, phone')"
      ],
      "metadata": {
        "colab": {
          "base_uri": "https://localhost:8080/",
          "height": 35
        },
        "id": "hmAHJJKr1_Pi",
        "outputId": "38d90dbd-3c04-4383-8407-eabf4b75b52a"
      },
      "execution_count": 57,
      "outputs": [
        {
          "output_type": "execute_result",
          "data": {
            "text/plain": [
              "'mobile user phone'"
            ],
            "application/vnd.google.colaboratory.intrinsic+json": {
              "type": "string"
            }
          },
          "metadata": {},
          "execution_count": 57
        }
      ]
    },
    {
      "cell_type": "code",
      "source": [
        ""
      ],
      "metadata": {
        "id": "57b3Eahi2Qci"
      },
      "execution_count": null,
      "outputs": []
    }
  ]
}