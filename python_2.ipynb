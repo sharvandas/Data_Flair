{
  "nbformat": 4,
  "nbformat_minor": 0,
  "metadata": {
    "colab": {
      "name": "python_2.ipynb",
      "provenance": [],
      "collapsed_sections": []
    },
    "kernelspec": {
      "name": "python3",
      "display_name": "Python 3"
    },
    "language_info": {
      "name": "python"
    }
  },
  "cells": [
    {
      "cell_type": "markdown",
      "source": [
        "#Print\n",
        "#Statement\n",
        "#Comment\n",
        "#Doc - string\n",
        "# If else statement"
      ],
      "metadata": {
        "id": "jHMW0-lyBKKd"
      }
    },
    {
      "cell_type": "code",
      "execution_count": 5,
      "metadata": {
        "colab": {
          "base_uri": "https://localhost:8080/"
        },
        "id": "hOCLslOL9Tnp",
        "outputId": "32394b3f-6494-4dc9-9fde-339b675e5ecf"
      },
      "outputs": [
        {
          "output_type": "stream",
          "name": "stdout",
          "text": [
            "Hello\n"
          ]
        }
      ],
      "source": [
        "print(\"Hello\")\n"
      ]
    },
    {
      "cell_type": "code",
      "source": [
        "sum([2,5])"
      ],
      "metadata": {
        "colab": {
          "base_uri": "https://localhost:8080/"
        },
        "id": "4KuME4Q6BJap",
        "outputId": "454b1ed4-35b4-4a22-f1d5-d49d25ba34df"
      },
      "execution_count": 7,
      "outputs": [
        {
          "output_type": "execute_result",
          "data": {
            "text/plain": [
              "7"
            ]
          },
          "metadata": {},
          "execution_count": 7
        }
      ]
    },
    {
      "cell_type": "code",
      "source": [
        "#Assignment Statement\n",
        "name = \"Sharvan Raj Das\"\n"
      ],
      "metadata": {
        "id": "SkLVzAIA9Xis"
      },
      "execution_count": 8,
      "outputs": []
    },
    {
      "cell_type": "code",
      "source": [
        "print(name)"
      ],
      "metadata": {
        "colab": {
          "base_uri": "https://localhost:8080/"
        },
        "id": "j0I5Upo99Xk_",
        "outputId": "252dc20f-688f-4b43-c729-b96b0e3f0665"
      },
      "execution_count": 9,
      "outputs": [
        {
          "output_type": "stream",
          "name": "stdout",
          "text": [
            "Sharvan Raj Das\n"
          ]
        }
      ]
    },
    {
      "cell_type": "code",
      "source": [
        "name= 24"
      ],
      "metadata": {
        "id": "NBQE5qSa9XpE"
      },
      "execution_count": 10,
      "outputs": []
    },
    {
      "cell_type": "code",
      "source": [
        "print(name)"
      ],
      "metadata": {
        "colab": {
          "base_uri": "https://localhost:8080/"
        },
        "id": "kIH_sjfT9XrE",
        "outputId": "7a5b57c6-c12d-4529-c3ac-5ddbc06979c1"
      },
      "execution_count": 11,
      "outputs": [
        {
          "output_type": "stream",
          "name": "stdout",
          "text": [
            "24\n"
          ]
        }
      ]
    },
    {
      "cell_type": "code",
      "source": [
        "a=5;b=7;c=9"
      ],
      "metadata": {
        "id": "L5_ocVQp9XvQ"
      },
      "execution_count": 13,
      "outputs": []
    },
    {
      "cell_type": "code",
      "source": [
        "a,b,c = c,a,b"
      ],
      "metadata": {
        "id": "5i8kQyqz9Xxa"
      },
      "execution_count": 14,
      "outputs": []
    },
    {
      "cell_type": "code",
      "source": [
        "print(a,b,c)"
      ],
      "metadata": {
        "colab": {
          "base_uri": "https://localhost:8080/"
        },
        "id": "a_89Kg169X1z",
        "outputId": "5cd669b0-92b1-452e-aa41-09edc0a9cf09"
      },
      "execution_count": 15,
      "outputs": [
        {
          "output_type": "stream",
          "name": "stdout",
          "text": [
            "9 5 7\n"
          ]
        }
      ]
    },
    {
      "cell_type": "code",
      "source": [
        "if 25>15:\n",
        "  print(\"25 is greater\")\n",
        "elif 25==15:\n",
        "  print(\"they are equal\")\n",
        "else:\n",
        "  print(\"Cannot find\")"
      ],
      "metadata": {
        "colab": {
          "base_uri": "https://localhost:8080/"
        },
        "id": "Dy6pd7zU9X39",
        "outputId": "e963e7e8-759d-4381-a2da-b4653dd4c9f7"
      },
      "execution_count": 16,
      "outputs": [
        {
          "output_type": "stream",
          "name": "stdout",
          "text": [
            "25 is greater\n"
          ]
        }
      ]
    },
    {
      "cell_type": "code",
      "source": [
        "# Hello i am comment\n",
        "a = '#'\n",
        "print(a, \"i am comment\")"
      ],
      "metadata": {
        "colab": {
          "base_uri": "https://localhost:8080/"
        },
        "id": "LkOZQN119X8V",
        "outputId": "c1149b87-be46-4d16-b8e1-6c266a50a287"
      },
      "execution_count": 18,
      "outputs": [
        {
          "output_type": "stream",
          "name": "stdout",
          "text": [
            "# i am comment\n"
          ]
        }
      ]
    },
    {
      "cell_type": "code",
      "source": [
        "# Doc string tells us what the function does."
      ],
      "metadata": {
        "id": "Yh5-GmYG9X_a"
      },
      "execution_count": 19,
      "outputs": []
    },
    {
      "cell_type": "code",
      "source": [
        "def sumation(a,b):\n",
        "  \"\"\" It will add two number\"\"\"\n",
        "  return a+b"
      ],
      "metadata": {
        "id": "Td7L_kwY9YDC"
      },
      "execution_count": 22,
      "outputs": []
    },
    {
      "cell_type": "code",
      "source": [
        "sumation(2,4)"
      ],
      "metadata": {
        "colab": {
          "base_uri": "https://localhost:8080/"
        },
        "id": "GSTwysar9YFW",
        "outputId": "dcbcb890-21e4-4dee-cce4-c3544cf95dd8"
      },
      "execution_count": 23,
      "outputs": [
        {
          "output_type": "execute_result",
          "data": {
            "text/plain": [
              "6"
            ]
          },
          "metadata": {},
          "execution_count": 23
        }
      ]
    },
    {
      "cell_type": "code",
      "source": [
        "sumation.__doc__"
      ],
      "metadata": {
        "colab": {
          "base_uri": "https://localhost:8080/",
          "height": 35
        },
        "id": "Qvv041It9YKN",
        "outputId": "b4faf0f0-5f2b-476f-96e9-8e65a4c0918e"
      },
      "execution_count": 24,
      "outputs": [
        {
          "output_type": "execute_result",
          "data": {
            "text/plain": [
              "' It will add two number'"
            ],
            "application/vnd.google.colaboratory.intrinsic+json": {
              "type": "string"
            }
          },
          "metadata": {},
          "execution_count": 24
        }
      ]
    },
    {
      "cell_type": "code",
      "source": [
        "# doc string can be retained also"
      ],
      "metadata": {
        "id": "BqrS9VCP9YMf"
      },
      "execution_count": 25,
      "outputs": []
    }
  ]
}